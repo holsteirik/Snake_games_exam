{
 "cells": [
  {
   "cell_type": "markdown",
   "id": "18244524",
   "metadata": {},
   "source": [
    "## Github depository\n",
    "https://github.com/holsteirik/Snake_games_exam"
   ]
  },
  {
   "cell_type": "markdown",
   "id": "7c78dac2",
   "metadata": {},
   "source": [
    "# Are children motivated to learn about types of animals or individuals?"
   ]
  },
  {
   "cell_type": "markdown",
   "id": "1201ba72",
   "metadata": {},
   "source": [
    "## This data was collected by me and Karl Ditlefsen in several kindergardens in Northern Norway. The data was previously used to write an exam in psy-2707 by Holst and Diflefsen (2022), but all plots and analysis was redone in python for this course. "
   ]
  },
  {
   "cell_type": "markdown",
   "id": "3a86cbc3",
   "metadata": {},
   "source": [
    "## Study details\n",
    "Children were given a choice to learn a fact about the animal on a picture or a fact about the type of animal on the picture. After answering, the children were told an interesting fact about either the type of animal or that specific animal. Each child was presented with this choice three times per animal for four different animals, resulting in a total of 12 choices. We also wanted to determine if children were always motivated to learn about types, or if their motivation was influenced by the experimenters' knowledge. Therefore, the experimenters acted either ignorant (uninformed) or knowledgeable (informed) about the animal in question.\n",
    "\n",
    "The study had two hypotheses: \n",
    "    1. Children would choose the Type option more often if the experimenter appeared informed compared to uninformed.\n",
    "    2. In the informed condition, children would select the Type option significantly more often than expected by chance.\n",
    "\n",
    "To test these hypotheses, we conducted two t-tests. The first test was to compare the type preference in the informed and uninformed conditions. The second test was to determine whether the likelihood of choosing the Type option was significantly different from chance (50%). Given the 12 choices, this would mean selecting Type at least 6 times. \n",
    "\n",
    "Cimpian, A. & Park, J. J. (2014). Tell Me About Pangolins! Evidence That Children Are \n",
    "Motivated to Learn About Kinds. J Exp Psychol Gen, 143(1), 46-55. \n",
    "https://doi.org/10.1037/a0031687\n",
    "\n",
    "Holst, E. & Diflefsen, K. (2022). Er barn motivert til å lære om typer eller individer? En replikasjon [Unpublished manuscript]. Institutt for psykologi, Norges Arktiske universitet."
   ]
  },
  {
   "cell_type": "markdown",
   "id": "5387461d",
   "metadata": {},
   "source": [
    "#### Import packages"
   ]
  },
  {
   "cell_type": "code",
   "execution_count": 1,
   "id": "c56556ff",
   "metadata": {
    "scrolled": true
   },
   "outputs": [],
   "source": [
    "#Import packages\n",
    "import pandas as pd\n",
    "import matplotlib.pyplot as plt\n",
    "from scipy.stats import ttest_ind\n",
    "from scipy.stats import ttest_1samp"
   ]
  },
  {
   "cell_type": "markdown",
   "id": "3070e37b",
   "metadata": {},
   "source": [
    "#### Load the data"
   ]
  },
  {
   "cell_type": "code",
   "execution_count": 2,
   "id": "782b06ac",
   "metadata": {
    "scrolled": true
   },
   "outputs": [],
   "source": [
    "data = pd.read_csv(\"../data/data_barnehage.csv\", delimiter=\";\")"
   ]
  },
  {
   "cell_type": "markdown",
   "id": "0946392e",
   "metadata": {},
   "source": [
    "#### Convert age column to floats"
   ]
  },
  {
   "cell_type": "code",
   "execution_count": 3,
   "id": "e3dda146",
   "metadata": {
    "scrolled": true
   },
   "outputs": [],
   "source": [
    "data['alder'] = data['alder'].str.replace(',', '.').astype(float)"
   ]
  },
  {
   "cell_type": "markdown",
   "id": "0a264025",
   "metadata": {},
   "source": [
    "#### Filter out the rows where age is less than 4"
   ]
  },
  {
   "cell_type": "code",
   "execution_count": 4,
   "id": "34ac1fa5",
   "metadata": {
    "scrolled": true
   },
   "outputs": [],
   "source": [
    "filtered_data = data[data['alder'] >= 4]"
   ]
  },
  {
   "cell_type": "markdown",
   "id": "d0655f69",
   "metadata": {},
   "source": [
    "#### Split the data into two conditions"
   ]
  },
  {
   "cell_type": "code",
   "execution_count": 5,
   "id": "31b06b9e",
   "metadata": {
    "scrolled": true
   },
   "outputs": [],
   "source": [
    "informert = filtered_data[filtered_data['betingelse'] == 'informert']['sum_dyr']\n",
    "uinformert = filtered_data[filtered_data['betingelse'] == 'uinformert']['sum_dyr']"
   ]
  },
  {
   "cell_type": "markdown",
   "id": "ff2024f7",
   "metadata": {},
   "source": [
    "#### Calculate means and standard errors of the means"
   ]
  },
  {
   "cell_type": "code",
   "execution_count": 6,
   "id": "52d94c5e",
   "metadata": {
    "scrolled": true
   },
   "outputs": [],
   "source": [
    "informert_mean = informert.mean()\n",
    "uinformert_mean = uinformert.mean()\n",
    "informert_sem = informert.sem()\n",
    "uinformert_sem = uinformert.sem()"
   ]
  },
  {
   "cell_type": "markdown",
   "id": "2b05b2a5",
   "metadata": {},
   "source": [
    "#### Perform an independent t-test with scripty, between the informed and uninformed conditions, assuming unequal variances"
   ]
  },
  {
   "cell_type": "code",
   "execution_count": 7,
   "id": "299b6a42",
   "metadata": {
    "scrolled": true
   },
   "outputs": [],
   "source": [
    "t_stat1, p_value1 = ttest_ind(informert, uinformert, equal_var=False)"
   ]
  },
  {
   "cell_type": "markdown",
   "id": "da16a239",
   "metadata": {},
   "source": [
    "#### Print the results of the independent t-test"
   ]
  },
  {
   "cell_type": "code",
   "execution_count": 8,
   "id": "fc86e475",
   "metadata": {
    "scrolled": true
   },
   "outputs": [
    {
     "name": "stdout",
     "output_type": "stream",
     "text": [
      "Independent t-test results:\n",
      "t-statistic:  2.0544170928213186\n",
      "p-value:  0.04791134783400178\n"
     ]
    }
   ],
   "source": [
    "print(\"Independent t-test results:\")\n",
    "print(\"t-statistic: \", t_stat1)\n",
    "print(\"p-value: \", p_value1)"
   ]
  },
  {
   "cell_type": "markdown",
   "id": "ce60176e",
   "metadata": {},
   "source": [
    "#### Perform a one-sample t-test against 50% chance to pick Type. This chance is 6 if choices were random"
   ]
  },
  {
   "cell_type": "code",
   "execution_count": 9,
   "id": "a3f0d765",
   "metadata": {
    "scrolled": true
   },
   "outputs": [],
   "source": [
    "t_stat2, p_value2 = ttest_1samp(informert, popmean=6)"
   ]
  },
  {
   "cell_type": "markdown",
   "id": "ef65a55c",
   "metadata": {},
   "source": [
    "#### Print the results of one sample t-test against chance"
   ]
  },
  {
   "cell_type": "code",
   "execution_count": 10,
   "id": "168e7ed4",
   "metadata": {
    "scrolled": true
   },
   "outputs": [
    {
     "name": "stdout",
     "output_type": "stream",
     "text": [
      "t-value:  1.9530923010507828\n",
      "p-value2:  0.06256376123349318\n"
     ]
    }
   ],
   "source": [
    "print(\"t-value: \", t_stat2)\n",
    "print(\"p-value2: \", p_value2)"
   ]
  },
  {
   "cell_type": "markdown",
   "id": "2533b19c",
   "metadata": {},
   "source": [
    "#### Calculate degrees of freedom for the first and second t-test respectivly"
   ]
  },
  {
   "cell_type": "code",
   "execution_count": 11,
   "id": "821a39e5",
   "metadata": {
    "scrolled": true
   },
   "outputs": [],
   "source": [
    "degrees_of_freedom1 = len(informert) + len(uinformert) - 2\n",
    "degrees_of_freedom2 = len(informert) - 1"
   ]
  },
  {
   "cell_type": "markdown",
   "id": "fa285328",
   "metadata": {},
   "source": [
    "### Setting up the plot"
   ]
  },
  {
   "cell_type": "code",
   "execution_count": 14,
   "id": "840d3eaf",
   "metadata": {
    "scrolled": true
   },
   "outputs": [
    {
     "data": {
      "image/png": "[encoded data removed]",
      "text/plain": [
       "<Figure size 700x800 with 1 Axes>"
      ]
     },
     "metadata": {},
     "output_type": "display_data"
    }
   ],
   "source": [
    "# Create figure and set size\n",
    "fig, ax = plt.subplots(figsize=(7, 8))\n",
    "\n",
    "# Plot the bar chart\n",
    "ax.bar([\"Informed\", \"Uninformed\"], [informert_mean, uinformert_mean], \n",
    "       yerr=[informert_sem, uinformert_sem], capsize=10, color=\"#1d5dec\")\n",
    "\n",
    "# Set the labels and title\n",
    "ax.set_ylabel(\"Number of type choices\", \n",
    "              fontdict={\"fontsize\": 14, \"fontweight\": \"bold\", \"fontfamily\": \"serif\"})\n",
    "ax.set_xlabel(\"Note: * is significant at .05 level. Error bars are standard error of the mean\")\n",
    "plt.title(\"Preference for type\", fontdict={\"fontsize\": 14, \"fontweight\": \"bold\", \"fontfamily\": \"serif\"})\n",
    "\n",
    "# Add significance stars if p-value is less than 0.05\n",
    "if p_value1 < 0.05:\n",
    "    x1, x2 = 0, 1\n",
    "    y, h, col = 1.1 * max(informert_mean, uinformert_mean), 0.15, 'k'\n",
    "    ax.plot([x1, x1, x2, x2], [y, y+h, y+h, y], lw=1.5, c=col)\n",
    "    ax.text((x1+x2)*0.5, y+h, \"*\", ha='center', va='bottom', color=col, fontsize=20)\n",
    "\n",
    "# Show the plot\n",
    "plt.show()"
   ]
  },
  {
   "cell_type": "markdown",
   "id": "b0ea80f7",
   "metadata": {},
   "source": [
    "#### Printing out results of the experiment depending on the results using .format"
   ]
  },
  {
   "cell_type": "code",
   "execution_count": 13,
   "id": "7917d882",
   "metadata": {
    "scrolled": true
   },
   "outputs": [
    {
     "name": "stdout",
     "output_type": "stream",
     "text": [
      "Results:\n",
      "The manipulation led to a significant difference between conditions t(42) = 2.05, p = 0.048). However, the children in the informed condition did not pick Type significantly more often than chance t(24) = 1.95, p = 0.063.\n"
     ]
    }
   ],
   "source": [
    "# Print header for results\n",
    "print(\"Results:\")\n",
    "\n",
    "# If independent t-test is significant\n",
    "if p_value1 < 0.05:\n",
    "    \n",
    "    # If one sample t-test is NOT significant\n",
    "    if p_value2 > 0.05:\n",
    "        # Print results when one sample t-test is NOT significant\n",
    "        print(\"The manipulation led to a significant difference between conditions \"\n",
    "              \"t({0}) = {1:.2f}, p = {2:.3f}). However, the children in the informed condition \"\n",
    "              \"did not pick Type significantly more often than chance t({3}) = {4:.2f}, p = {5:.3f}.\".format(\n",
    "                  degrees_of_freedom1, t_stat1, p_value1, degrees_of_freedom2, t_stat2, p_value2))\n",
    "              \n",
    "    # if One sample t-test is significant\n",
    "    if p_value2 < 0.05:\n",
    "        # Print results when one sample t-test is significant\n",
    "        print(\"The manipulation led to a significant difference between conditions \"\n",
    "              \"t({0}) = {1:.2f}, p = {2:.3f}), and children in the informed condition picked \"\n",
    "              \"Type significantly more often than chance t({3}) = {4:.2f}, p = {5:.3f}.\".format(\n",
    "                  degrees_of_freedom1, t_stat1, p_value1, degrees_of_freedom2, t_stat2, p_value2))\n",
    "        \n",
    "# If independent t-test is NOT significant        \n",
    "else:\n",
    "    # Print results when independent t-test is NOT significant\n",
    "    print(\"The manipulation did not lead to any significant differences between the conditions \"\n",
    "          \"t({0}) = {1:.2f}, p = {2:.3f}).\".format(degrees_of_freedom1, t_stat1, p_value1))\n"
   ]
  }
 ],
 "metadata": {
  "kernelspec": {
   "display_name": "Python 3 (ipykernel)",
   "language": "python",
   "name": "python3"
  },
  "language_info": {
   "codemirror_mode": {
    "name": "ipython",
    "version": 3
   },
   "file_extension": ".py",
   "mimetype": "text/x-python",
   "name": "python",
   "nbconvert_exporter": "python",
   "pygments_lexer": "ipython3",
   "version": "3.9.7"
  }
 },
 "nbformat": 4,
 "nbformat_minor": 5
}
